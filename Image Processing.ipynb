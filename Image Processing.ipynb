{
 "cells": [
  {
   "cell_type": "code",
   "execution_count": 57,
   "metadata": {},
   "outputs": [],
   "source": [
    "import cv2\n",
    "import numpy as np"
   ]
  },
  {
   "cell_type": "code",
   "execution_count": 58,
   "metadata": {},
   "outputs": [],
   "source": [
    "photo=np.zeros((600,600,3))"
   ]
  },
  {
   "cell_type": "code",
   "execution_count": 59,
   "metadata": {},
   "outputs": [
    {
     "data": {
      "text/plain": [
       "(600, 600, 3)"
      ]
     },
     "execution_count": 59,
     "metadata": {},
     "output_type": "execute_result"
    }
   ],
   "source": [
    "photo.shape"
   ]
  },
  {
   "cell_type": "markdown",
   "metadata": {},
   "source": [
    "# CREATING OUR OWN IMAGE"
   ]
  },
  {
   "cell_type": "code",
   "execution_count": 60,
   "metadata": {},
   "outputs": [],
   "source": [
    "#head\n",
    "cv2.circle(photo, center=(300,75), radius=75, color=(255,255,255), thickness=3)\n",
    "#left eye\n",
    "cv2.circle(photo ,center=(270,50) , radius=10,color=(10,20,30),thickness=2)\n",
    "#right eye\n",
    "cv2.circle(photo ,center=(330,50) , radius=10,color=(10,20,30),thickness=2)\n",
    "#nose\n",
    "photo[70:100, 300:305]=[255,255,255]\n",
    "#mouth\n",
    "cv2.ellipse(photo,(302,110),(30,30),0,0,180,320,-1)\n",
    "\n",
    "#neck\n",
    "photo[150:190, 300:310]=[0,255,0]\n",
    "#chest\n",
    "photo[190:400, 235:375]=[0,0,255]\n",
    "#left_hand\n",
    "photo[190:200, 80:235]=[0,255,255]\n",
    "#right hand\n",
    "photo[190:200, 375:530]=[0,255,255]\n",
    "#left leg\n",
    "photo[400:550, 250:270]=[0,255,255]\n",
    "#right leg\n",
    "photo[400:550, 330:350]=[0,255,255]\n",
    "\n",
    "cv2.imshow(\"photo\",photo)\n",
    "cv2.waitKey()\n",
    "cv2.destroyAllWindows()"
   ]
  },
  {
   "cell_type": "markdown",
   "metadata": {},
   "source": [
    "# CROP SOME PART OF TWO IMAGES AND SWAP IT"
   ]
  },
  {
   "cell_type": "code",
   "execution_count": 61,
   "metadata": {},
   "outputs": [],
   "source": [
    "\n",
    "img1=cv2.imread(\"tiger.jpg\")\n",
    "img2=cv2.imread(\"nature.jpg\")\n",
    "cv2.imshow('img1',img1)\n",
    "cv2.imshow('img2',img2)\n",
    "cv2.waitKey()\n",
    "cv2.destroyAllWindows()\n"
   ]
  },
  {
   "cell_type": "code",
   "execution_count": 62,
   "metadata": {},
   "outputs": [
    {
     "data": {
      "text/plain": [
       "(600, 800, 3)"
      ]
     },
     "execution_count": 62,
     "metadata": {},
     "output_type": "execute_result"
    }
   ],
   "source": [
    "img1.shape"
   ]
  },
  {
   "cell_type": "code",
   "execution_count": 63,
   "metadata": {},
   "outputs": [],
   "source": [
    "img22=cv2.imread('nature.jpg')\n"
   ]
  },
  {
   "cell_type": "code",
   "execution_count": 64,
   "metadata": {},
   "outputs": [
    {
     "data": {
      "text/plain": [
       "(613, 1090, 3)"
      ]
     },
     "execution_count": 64,
     "metadata": {},
     "output_type": "execute_result"
    }
   ],
   "source": [
    "img2.shape"
   ]
  },
  {
   "cell_type": "code",
   "execution_count": 65,
   "metadata": {},
   "outputs": [],
   "source": [
    "img11=img1[0:400, 100:700]\n",
    "cv2.imshow('Cropped Image 1',img11)\n",
    "cv2.waitKey()\n",
    "cv2.destroyAllWindows()\n"
   ]
  },
  {
   "cell_type": "code",
   "execution_count": 66,
   "metadata": {},
   "outputs": [],
   "source": [
    "img2[200:600, 100:700]=img11\n",
    "cv2.imshow('swaping1',img2)\n",
    "cv2.waitKey()\n",
    "cv2.destroyAllWindows()\n"
   ]
  },
  {
   "cell_type": "code",
   "execution_count": 67,
   "metadata": {},
   "outputs": [],
   "source": [
    "img21=img22[0:400, 100:700]\n",
    "cv2.imshow('Cropped Image 2',img21)\n",
    "cv2.waitKey()\n",
    "cv2.destroyAllWindows()\n"
   ]
  },
  {
   "cell_type": "code",
   "execution_count": 68,
   "metadata": {},
   "outputs": [],
   "source": [
    "img1[200:600, 100:700]=img21\n",
    "cv2.imshow('swaping2',img1)\n",
    "cv2.waitKey()\n",
    "cv2.destroyAllWindows()"
   ]
  },
  {
   "cell_type": "markdown",
   "metadata": {},
   "source": [
    "#  TAKING 2 IMAGE AND COMBINING IT TO FORM SINGLE IMAGE"
   ]
  },
  {
   "cell_type": "code",
   "execution_count": 69,
   "metadata": {},
   "outputs": [
    {
     "name": "stdout",
     "output_type": "stream",
     "text": [
      "(600, 800, 3)\n",
      "(613, 1090, 3)\n"
     ]
    }
   ],
   "source": [
    "img01=cv2.imread(\"tiger.jpg\")\n",
    "img02=cv2.imread(\"nature.jpg\")\n",
    "\n",
    "print(img01.shape)\n",
    "print(img02.shape)"
   ]
  },
  {
   "cell_type": "code",
   "execution_count": 70,
   "metadata": {},
   "outputs": [],
   "source": [
    "img02=img02[0:600, 0:800]\n",
    "hor=np.hstack((img01,img02))\n",
    "\n",
    "cv2.imshow(\"Horizontal Collage\", hor)\n",
    "cv2.waitKey()\n",
    "cv2.destroyAllWindows()"
   ]
  },
  {
   "cell_type": "code",
   "execution_count": 71,
   "metadata": {},
   "outputs": [],
   "source": [
    "img01=img01[0:400, 0:600]\n",
    "img02=img02[0:400, 0:600]\n",
    "\n",
    "ver=np.vstack((img01,img02))\n",
    "cv2.imshow(\"Vertical Collage\", ver)\n",
    "cv2.waitKey()\n",
    "cv2.destroyAllWindows()"
   ]
  },
  {
   "cell_type": "code",
   "execution_count": null,
   "metadata": {},
   "outputs": [],
   "source": []
  }
 ],
 "metadata": {
  "kernelspec": {
   "display_name": "Python 3",
   "language": "python",
   "name": "python3"
  },
  "language_info": {
   "codemirror_mode": {
    "name": "ipython",
    "version": 3
   },
   "file_extension": ".py",
   "mimetype": "text/x-python",
   "name": "python",
   "nbconvert_exporter": "python",
   "pygments_lexer": "ipython3",
   "version": "3.7.6"
  }
 },
 "nbformat": 4,
 "nbformat_minor": 4
}
